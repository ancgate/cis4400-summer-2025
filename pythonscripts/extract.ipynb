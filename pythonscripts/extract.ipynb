{
  "nbformat": 4,
  "nbformat_minor": 0,
  "metadata": {
    "colab": {
      "provenance": [],
      "machine_shape": "hm",
      "authorship_tag": "ABX9TyM4LGQQ2LkiqqkgCI/v3k4b",
      "include_colab_link": true
    },
    "kernelspec": {
      "name": "python3",
      "display_name": "Python 3"
    },
    "language_info": {
      "name": "python"
    }
  },
  "cells": [
    {
      "cell_type": "markdown",
      "metadata": {
        "id": "view-in-github",
        "colab_type": "text"
      },
      "source": [
        "<a href=\"https://colab.research.google.com/github/ancgate/cis4400-summer-2025/blob/main/pythonscripts/extract.ipynb\" target=\"_parent\"><img src=\"https://colab.research.google.com/assets/colab-badge.svg\" alt=\"Open In Colab\"/></a>"
      ]
    },
    {
      "cell_type": "code",
      "execution_count": null,
      "metadata": {
        "id": "siiNZRBJF-Yp"
      },
      "outputs": [],
      "source": [
        "!pip install azure-storage-blob\n",
        "!pip install pymongo"
      ]
    },
    {
      "cell_type": "code",
      "source": [
        "import pandas as pd\n",
        "import pymongo\n",
        "from pymongo import MongoClient\n",
        "from azure.storage.blob import BlobServiceClient, BlobClient, ContainerClient"
      ],
      "metadata": {
        "id": "V8bg1mjVH7nC"
      },
      "execution_count": null,
      "outputs": []
    },
    {
      "cell_type": "markdown",
      "source": [
        "## Group 01"
      ],
      "metadata": {
        "id": "_YB2PDbwYsIF"
      }
    },
    {
      "cell_type": "code",
      "source": [
        "# read the config file that is json\n",
        "import json\n",
        "with open('configg1.json') as config_file:\n",
        "    config = json.load(config_file)\n",
        "\n",
        "# read information about the destination\n",
        "DESTINATION_CONNECTION_STRING = config['DESTINATION_CONNECTION_STRING']\n",
        "DESTINATION_CONTAINER_NAME = config['DESTINATION_CONTAINER_NAME']\n",
        "DESTINATION_FILE_NAME = config['DESTINATION_FILE_NAME']\n",
        "\n",
        "# read information about mongodb\n",
        "MONGODB_CONNECTION_STRING = config['MONGODB_CONNECTION_STRING']\n",
        "MONGO_DB_NAME = config['MONGO_DB_NAME']\n",
        "MONGO_COLLECTION_NAME = config['MONGO_COLLECTION_NAME']\n",
        "print(MONGO_COLLECTION_NAME)"
      ],
      "metadata": {
        "id": "jdO6OfDUIfcl"
      },
      "execution_count": null,
      "outputs": []
    },
    {
      "cell_type": "code",
      "source": [
        "# connect to mongodb and test the connection using ping\n",
        "client = MongoClient(MONGODB_CONNECTION_STRING)\n",
        "try:\n",
        "    client.admin.command('ping')\n",
        "    print(\"Pinged your deployment. You successfully connected to MongoDB!\")\n",
        "except Exception as e:\n",
        "    print(e)\n",
        "db = client[MONGO_DB_NAME]\n",
        "collection = db[MONGO_COLLECTION_NAME]\n",
        "print(collection)"
      ],
      "metadata": {
        "id": "Z3Yp95KvV6Yq"
      },
      "execution_count": null,
      "outputs": []
    },
    {
      "cell_type": "code",
      "source": [
        "# read the collection and store it into azure blob\n",
        "# Retrieve all documents from the collection\n",
        "mongo_data = list(collection.find())\n",
        "\n",
        "# Convert to pandas DataFrame (optional, but useful for many formats)\n",
        "df = pd.DataFrame(mongo_data)\n",
        "\n",
        "# Choose a file format and save the data\n",
        "# For example, saving to CSV:\n",
        "local_file_name = \"mongo_collection_data.csv\"\n",
        "df.to_csv(local_file_name, index=False)\n",
        "\n",
        "# Upload to Azure Blob Storage\n",
        "blob_service_client = BlobServiceClient.from_connection_string(DESTINATION_CONNECTION_STRING)\n",
        "container_client = blob_service_client.get_container_client(DESTINATION_CONTAINER_NAME)\n",
        "\n",
        "with open(local_file_name, \"rb\") as data:\n",
        "    blob_client = container_client.upload_blob(name=DESTINATION_FILE_NAME, data=data, overwrite=True)\n",
        "\n",
        "print(f\"Data from MongoDB collection '{MONGO_COLLECTION_NAME}' uploaded to Azure Blob '{DESTINATION_FILE_NAME}' in container '{DESTINATION_CONTAINER_NAME}'.\")"
      ],
      "metadata": {
        "id": "7uOmaetzXBBX"
      },
      "execution_count": null,
      "outputs": []
    },
    {
      "cell_type": "markdown",
      "source": [
        "## Group 2"
      ],
      "metadata": {
        "id": "I_VjuvIJYutY"
      }
    },
    {
      "cell_type": "code",
      "source": [
        "# read the config file that is json\n",
        "import json\n",
        "with open('configg2.json') as config_file:\n",
        "    config = json.load(config_file)\n",
        "\n",
        "# read information about the source\n",
        "SOURCE_CONNECTION_STRING = config['SOURCE_CONNECTION_STRING']\n",
        "SOURCE_CONTAINER_NAME = config['SOURCE_CONTAINER_NAME']\n",
        "SOURCE_FILE_NAME = config['SOURCE_FILE_NAME']\n",
        "\n",
        "# read information about the destination\n",
        "DESTINATION_CONNECTION_STRING = config['DESTINATION_CONNECTION_STRING']\n",
        "DESTINATION_CONTAINER_NAME = config['DESTINATION_CONTAINER_NAME']\n",
        "DESTINATION_FILE_NAME = config['DESTINATION_FILE_NAME']\n",
        "print(DESTINATION_CONNECTION_STRING)"
      ],
      "metadata": {
        "id": "8hNJ2pfDZguh"
      },
      "execution_count": null,
      "outputs": []
    },
    {
      "cell_type": "code",
      "source": [
        "# read from source to destination azure blob\n",
        "\n",
        "# Instantiate BlobServiceClient for the source\n",
        "source_blob_service_client = BlobServiceClient.from_connection_string(SOURCE_CONNECTION_STRING)\n",
        "\n",
        "# Get a client for the source blob to get its URL\n",
        "source_blob_client = source_blob_service_client.get_blob_client(container=SOURCE_CONTAINER_NAME, blob=SOURCE_FILE_NAME)\n",
        "\n",
        "# download the file to a specific folder\n",
        "with open(\"downloaded_file.csv\", \"wb\") as my_blob:\n",
        "    download_stream = source_blob_client.download_blob()\n",
        "    my_blob.write(download_stream.readall())\n",
        "\n",
        "# upload to the destination\n",
        "destination_blob_service_client = BlobServiceClient.from_connection_string(DESTINATION_CONNECTION_STRING)\n",
        "\n",
        "# Get a client for the destination container\n",
        "destination_container_client = destination_blob_service_client.get_container_client(DESTINATION_CONTAINER_NAME)\n",
        "\n",
        "# Upload the downloaded file to the destination\n",
        "with open(\"downloaded_file.csv\", \"rb\") as data:\n",
        "    destination_blob_client = destination_container_client.upload_blob(name=DESTINATION_FILE_NAME, data=data, overwrite=True)\n",
        "\n",
        "print(f\"Downloaded file uploaded to Azure Blob '{DESTINATION_FILE_NAME}' in container '{DESTINATION_CONTAINER_NAME}'.\")\n"
      ],
      "metadata": {
        "id": "W2TqV79OYxqJ"
      },
      "execution_count": null,
      "outputs": []
    },
    {
      "cell_type": "markdown",
      "source": [
        "## Group 3"
      ],
      "metadata": {
        "id": "EKyTmzXmdSSj"
      }
    },
    {
      "cell_type": "code",
      "source": [
        "# read the config file that is json\n",
        "import json\n",
        "with open('configg3.json') as config_file:\n",
        "    config = json.load(config_file)\n",
        "\n",
        "# read information about the source\n",
        "SOURCE_CONNECTION_STRING = config['SOURCE_CONNECTION_STRING']\n",
        "SOURCE_CONTAINER_NAME = config['SOURCE_CONTAINER_NAME']\n",
        "SOURCE_FILE_NAME = config['SOURCE_FILE_NAME']\n",
        "\n",
        "# read information about the destination\n",
        "DESTINATION_CONNECTION_STRING = config['DESTINATION_CONNECTION_STRING']\n",
        "DESTINATION_CONTAINER_NAME = config['DESTINATION_CONTAINER_NAME']\n",
        "DESTINATION_FILE_NAME = config['DESTINATION_FILE_NAME']\n",
        "print(DESTINATION_CONTAINER_NAME)"
      ],
      "metadata": {
        "id": "RnNku9PzdRwa"
      },
      "execution_count": null,
      "outputs": []
    },
    {
      "cell_type": "code",
      "source": [
        "# Assuming you have SOURCE_CONNECTION_STRING, SOURCE_CONTAINER_NAME,\n",
        "# DESTINATION_CONNECTION_STRING, and DESTINATION_CONTAINER_NAME defined from your config files.\n",
        "\n",
        "# Instantiate BlobServiceClient for the source\n",
        "source_blob_service_client = BlobServiceClient.from_connection_string(SOURCE_CONNECTION_STRING)\n",
        "\n",
        "# Get a client for the source container\n",
        "source_container_client = source_blob_service_client.get_container_client(SOURCE_CONTAINER_NAME)\n",
        "\n",
        "# List all blobs in the source container\n",
        "blob_list = source_container_client.list_blobs()\n",
        "\n",
        "# Loop through each blob in the source container\n",
        "for blob in blob_list:\n",
        "    print(f\"Processing blob: {blob.name}\")\n",
        "    # Download the blob to a local file\n",
        "    source_blob_name = blob.name\n",
        "    # take only every after the forward slash\n",
        "    local_file_name = source_blob_name.split('/')[-1]\n",
        "\n",
        "    print(f\"Downloading blob: {source_blob_name}\")\n",
        "\n",
        "    # Download the blob to a local file\n",
        "    source_blob_client = source_blob_service_client.get_blob_client(container=SOURCE_CONTAINER_NAME, blob=source_blob_name)\n",
        "    with open(local_file_name, \"wb\") as my_blob:\n",
        "        download_stream = source_blob_client.download_blob()\n",
        "        my_blob.write(download_stream.readall())\n",
        "\n",
        "    print(f\"Uploading blob: {source_blob_name}\")\n",
        "\n",
        "    # Upload the local file to the destination container\n",
        "    destination_blob_service_client = BlobServiceClient.from_connection_string(DESTINATION_CONNECTION_STRING)\n",
        "    destination_container_client = destination_blob_service_client.get_container_client(DESTINATION_CONTAINER_NAME)\n",
        "\n",
        "    # You can use the same blob name or define a new one for the destination\n",
        "    # destination_blob_name = source_blob_name\n",
        "    with open(local_file_name, \"rb\") as data:\n",
        "        destination_blob_client = destination_container_client.upload_blob(name=source_blob_name, data=data, overwrite=True)\n",
        "\n",
        "    print(f\"Uploaded blob '{source_blob_name}' to destination as '{source_blob_name}'.\")\n",
        "\n",
        "    # Optional: Clean up the local file\n",
        "    import os\n",
        "    os.remove(local_file_name)\n",
        "    print(f\"Removed local file: {local_file_name}\")\n",
        "\n",
        "print(\"Finished processing all blobs.\")"
      ],
      "metadata": {
        "id": "JLIAkVzzdYJ8"
      },
      "execution_count": null,
      "outputs": []
    }
  ]
}